{
 "cells": [
  {
   "cell_type": "markdown",
   "metadata": {},
   "source": [
    "# Introduction\n",
    "\n",
    "$\\newcommand{\\G}{\\mathcal{G}}$\n",
    "$\\newcommand{\\V}{\\mathcal{V}}$\n",
    "$\\newcommand{\\E}{\\mathcal{E}}$\n",
    "$\\newcommand{\\R}{\\mathbb{R}}$\n",
    "\n",
    "This notebook shows how to apply our graph ConvNet ([paper] & [code]), or any other, to your structured or unstructured data. For this example, we assume that we have $n$ samples $x_i \\in \\R^{d_x}$ arranged in a data matrix $$X = [x_1, ..., x_n]^T \\in \\R^{n \\times d_x}.$$ Each sample $x_i$ is associated with a vector $y_i \\in \\R^{d_y}$ for a regression task or a label $y_i \\in \\{0,\\ldots,C\\}$ for a classification task.\n",
    "\n",
    "[paper]: https://arxiv.org/abs/1606.09375\n",
    "[code]:  https://github.com/mdeff/cnn_graph\n",
    "\n",
    "From there, we'll structure our data with a graph $\\G = (\\V, \\E, A)$ where $\\V$ is the set of $d_x = |\\V|$ vertices, $\\E$ is the set of edges and $A \\in \\R^{d_x \\times d_x}$ is the adjacency matrix. That matrix represents the weight of each edge, i.e. $A_{i,j}$ is the weight of the edge connecting $v_i \\in \\V$ to $v_j \\in \\V$. The weights of that feature graph thus represent pairwise relationships between features $i$ and $j$. We call that regime **signal classification / regression**, as the samples $x_i$ to be classified or regressed are graph signals.\n",
    "\n",
    "Other modelling possibilities include:\n",
    "1. Using a data graph, i.e. an adjacency matrix $A \\in \\R^{n \\times n}$ which represents pairwise relationships between samples $x_i \\in \\R^{d_x}$. The problem is here to predict a graph signal $y \\in \\R^{n \\times d_y}$ given a graph characterized by $A$ and some graph signals $X \\in \\R^{n \\times d_x}$. We call that regime **node classification / regression**, as we classify or regress nodes instead of signals.\n",
    "2. Another problem of interest is whole graph classification, with or without signals on top. We'll call that third regime **graph classification / regression**. The problem here is to classify or regress a whole graph $A_i \\in \\R^{n \\times n}$ (with or without an associated data matrix $X_i \\in \\R^{n \\times d_x}$) into $y_i \\in \\R^{d_y}$. In case we have no signal, we can use a constant vector $X_i = 1_n$ of size $n$."
   ]
  },
  {
   "cell_type": "code",
   "execution_count": 152,
   "metadata": {
    "collapsed": false
   },
   "outputs": [],
   "source": [
    "from lib import models, graph, coarsening, utils\n",
    "import numpy as np\n",
    "import matplotlib.pyplot as plt\n",
    "%matplotlib inline"
   ]
  },
  {
   "cell_type": "markdown",
   "metadata": {},
   "source": [
    "# 1 Data\n",
    "\n",
    "For the purpose of the demo, let's create a random data matrix $X \\in \\R^{n \\times d_x}$ and somehow infer a label $y_i = f(x_i)$."
   ]
  },
  {
   "cell_type": "code",
   "execution_count": 153,
   "metadata": {
    "collapsed": false
   },
   "outputs": [],
   "source": [
    "d = 100    # Dimensionality.\n",
    "n = 6654  # Number of samples.\n",
    "c = 50      # Number of feature communities.\n",
    "\n",
    "# Data matrix, structured in communities (feature-wise).\n",
    "# xx = open(\"X\");#np.random.normal(0, 1, (n, d)).astype(np.float32)\n",
    "# xx = xx.read();#X += np.linspace(0, 1, c).repeat(d // c)\n",
    "\n",
    "# for i in range()\n",
    "# # Noisy non-linear target.\n",
    "# w = np.random.normal(0, .02, d)\n",
    "# t = X.dot(w) + np.random.normal(0, .001, n)\n",
    "# t = np.tanh(t)\n",
    "# plt.figure(figsize=(15, 5))\n",
    "# plt.plot(t, '.')\n",
    "\n",
    "xx = open(\"Xr\");\n",
    "xx = xx.read();\n",
    "xx = xx.split();\n",
    "# num_vid = open(\"num_vid\");\n",
    "# num_vid = num_vid.read();\n",
    "# num_vid = num_vid.split();\n",
    "\n",
    "w, h = 100, 5154;\n",
    "X = [[0 for xxt in range(w)] for yyt in range(h)];\n",
    "for i in range(0,515400):\n",
    "    X[i//100][i%100] = float(xx[i]);\n",
    "\n",
    "# w, h = 100, 6654;\n",
    "# X = [[0 for xxt in range(w)] for yyt in range(h)];\n",
    "# for i in range(0,665400):\n",
    "#     X[i//100][i%100] = float(xx[i]);\n",
    "\n",
    "\n",
    "X = np.array(X);\n",
    "\n",
    "xxe = open(\"Xe\");\n",
    "xxe = xxe.read();\n",
    "xxe = xxe.split();\n",
    "# num_vid = open(\"num_vid\");\n",
    "# num_vid = num_vid.read();\n",
    "# num_vid = num_vid.split();\n",
    "w, h = 100, 1500;\n",
    "X_test = [[0 for xxt in range(w)] for yyt in range(h)];\n",
    "for i in range(0,150000):\n",
    "    X_test[i//100][i%100] = float(xxe[i]);\n",
    "\n",
    "X_test = np.array(X_test);\n",
    "\n",
    "# # Classification.\n",
    "# y = np.ones(t.shape, dtype=np.uint8)\n",
    "# y[t > t.mean() + 0.4 * t.std()] = 0\n",
    "# y[t < t.mean() - 0.4 * t.std()] = 2\n",
    "# print('Class imbalance: ', np.unique(y, return_counts=True)[1])\n",
    "yy = open(\"Yr\");\n",
    "yy = yy.read();\n",
    "yy = yy.split();\n",
    "ye = open(\"Ye\");\n",
    "ye = ye.read();\n",
    "ye = ye.split();\n",
    "\n",
    "\n",
    "y = np.arange(5154);\n",
    "# num = np.arange(50);\n",
    "# for i in range(0,50):\n",
    "#     num[i] = int(num_vid[i]);\n",
    "\n",
    "for i in range(0,5154):\n",
    "    y[i] = int(yy[i]);\n",
    "    \n",
    "y_test = np.arange(1500);\n",
    "for i in range(0,1500):\n",
    "    y_test[i] = int(ye[i]);\n",
    "# print(y);"
   ]
  },
  {
   "cell_type": "markdown",
   "metadata": {},
   "source": [
    "Then split this dataset into training, validation and testing sets."
   ]
  },
  {
   "cell_type": "code",
   "execution_count": 154,
   "metadata": {
    "collapsed": false
   },
   "outputs": [],
   "source": [
    "# n_train = n//2;\n",
    "# n_val = n//10;\n",
    "n_train = 4754;\n",
    "n_val = 400;\n",
    "# for i in range(0,50):\n",
    "#     for j in range(0,num[i]):\n",
    "#         if j%10==4:\n",
    "#             n_val+=1;\n",
    "#         elif j%5!=0:\n",
    "#             n_train+=1;\n",
    "# ite = np.random.permutation(6654);\n",
    "X_train = X[:n_train];\n",
    "X_val   = X[n_train:n_train+n_val];\n",
    "# X_test  = X[n_train+n_val:n];\n",
    "y_train = y[:n_train];\n",
    "y_val   = y[n_train:n_train+n_val];\n",
    "# y_test  = y[n_train+n_val:n];\n",
    "\n",
    "# ofs = 0;\n",
    "# ofs1 = 0;\n",
    "# ofs2 = 0;\n",
    "# ofs3 = 0;\n",
    "# for j in range(0,50):\n",
    "#     it = np.random.permutation(num[j]);\n",
    "#     for i in range(0,num[j]):\n",
    "#         if i%10==4:\n",
    "#             X_val[ofs1] = X[it[i]-1+ofs];\n",
    "#             y_val[ofs1] = y[it[i]-1+ofs];\n",
    "#             ofs1+=1;\n",
    "#         elif i%5!=0:\n",
    "#             X_train[ofs3] = X[it[i]-1+ofs];\n",
    "#             y_train[ofs3] = y[it[i]-1+ofs];\n",
    "#             ofs3+=1;\n",
    "#         else:\n",
    "#             X_test[ofs2] = X[it[i]-1+ofs];\n",
    "#             y_test[ofs2] = y[it[i]-1+ofs];\n",
    "#             ofs2+=1;\n",
    "#     ofs += num[j];\n",
    "# X_train = np.array(X_train);\n",
    "# X_val = np.array(X_val);\n",
    "# X_test = np.array(X_test);\n",
    "# y_train = np.array(y_train);\n",
    "# y_val = np.array(y_val);\n",
    "# y_test = np.array(y_test);"
   ]
  },
  {
   "cell_type": "markdown",
   "metadata": {},
   "source": [
    "# 2 Graph\n",
    "\n",
    "The second thing we need is a **graph between features**, i.e. an adjacency matrix $A \\in \\mathbb{R}^{d_x \\times d_x}$.\n",
    "Structuring data with graphs is very flexible: it can accomodate both structured and unstructured data.\n",
    "1. **Structured data**.\n",
    "    1. The data is structured by an Euclidean domain, e.g. $x_i$ represents an image, a sound or a video. We can use a classical ConvNet with 1D, 2D or 3D convolutions or a graph ConvNet with a line or grid graph (however losing the orientation).\n",
    "    2. The data is structured by a graph, e.g. the data lies on a transportation, energy, brain or social network.\n",
    "2. **Unstructured data**. We could use a fully connected network, but the learning and computational complexities are gonna be large. An alternative is to construct a sparse similarity graph between features (or between samples) and use a graph ConvNet, effectively structuring the data and drastically reducing the number of parameters through weight sharing. As for classical ConvNets, the number of parameters are independent of the input size.\n",
    "\n",
    "There are many ways, supervised or unsupervised, to construct a graph given some data. And better the graph, better the performance ! For this example we'll define the adjacency matrix as a simple similarity measure between features. Below are the choices one has to make when constructing such a graph.\n",
    "1. The distance function. We'll use the Euclidean distance $d_{ij} = \\|x_i - x_j\\|_2$.\n",
    "2. The kernel. We'll use the Gaussian kernel $a_{ij} = \\exp(d_{ij}^2 / \\sigma^2)$.\n",
    "3. The type of graph. We'll use a $k$ nearest neigbors (kNN) graph."
   ]
  },
  {
   "cell_type": "code",
   "execution_count": 155,
   "metadata": {
    "collapsed": false
   },
   "outputs": [
    {
     "name": "stdout",
     "output_type": "stream",
     "text": [
      "d = |V| = 100, k|V| < |E| = 3284\n",
      "[189  90  77  73 108  89 127  84  85  78  93  82 111 116 104 110 496  80\n",
      "  91 121 111  92 111 122  90 120 225  95 109  96 123 103 105 145 103 159\n",
      " 106 108 108 108 155 118 110 111 137 130 126 111 124 114]\n"
     ]
    },
    {
     "data": {
      "image/png": "[encoded data removed]",
      "text/plain": [
       "<matplotlib.figure.Figure at 0x7feb02580e48>"
      ]
     },
     "metadata": {},
     "output_type": "display_data"
    }
   ],
   "source": [
    "aa = open(\"Adj\");\n",
    "aa = aa.read();\n",
    "aa = aa.split();\n",
    "w, h = 4096, 100;\n",
    "A_temp = [[0 for xx in range(w)] for yy in range(h)];\n",
    "for i in range(0,409600):\n",
    "    A_temp[i//4096][i%4096] = float(aa[i]);\n",
    "\n",
    "dist, idx = graph.distance_scipy_spatial(A_temp, k=20, metric='euclidean')\n",
    "A = graph.adjacency(dist, idx).astype(np.float32)\n",
    "\n",
    "assert A.shape == (d, d)\n",
    "print('d = |V| = {}, k|V| < |E| = {}'.format(d, A.nnz))\n",
    "# plt.spy(A, markersize=1, color='black');\n",
    "cn = np.arange(50);\n",
    "for i in range(0,len(y_train)):\n",
    "    cn[y_train[i]]+=1;\n",
    "print(cn);\n",
    "bins = np.linspace(0,48,49);\n",
    "plt.hist(y_train,bins);"
   ]
  },
  {
   "cell_type": "markdown",
   "metadata": {},
   "source": [
    "To be able to pool graph signals, we need first to coarsen the graph, i.e. to find which vertices to group together. At the end we'll have multiple graphs, like a pyramid, each at one level of resolution. The finest graph is where the input data lies, the coarsest graph is where the data at the output of the graph convolutional layers lie. That data, of reduced spatial dimensionality, can then be fed to a fully connected layer.\n",
    "\n",
    "The parameter here is the number of times to coarsen the graph. Each coarsening approximately reduces the size of the graph by a factor two. Thus if you want a pooling of size 4 in the first layer followed by a pooling of size 2 in the second, you'll need to coarsen $\\log_2(4+2) = 3$ times.\n",
    "\n",
    "After coarsening we rearrange the vertices (and add fake vertices) such that pooling a graph signal is analog to pooling a 1D signal. See the [paper] for details.\n",
    "\n",
    "[paper]: https://arxiv.org/abs/1606.09375"
   ]
  },
  {
   "cell_type": "code",
   "execution_count": 156,
   "metadata": {
    "collapsed": false
   },
   "outputs": [
    {
     "name": "stdout",
     "output_type": "stream",
     "text": [
      "Layer 0: M_0 = |V| = 104 nodes (4 added),|E| = 1642 edges\n",
      "Layer 1: M_1 = |V| = 52 nodes (0 added),|E| = 834 edges\n",
      "Layer 2: M_2 = |V| = 26 nodes (0 added),|E| = 286 edges\n",
      "Layer 3: M_3 = |V| = 13 nodes (0 added),|E| = 77 edges\n"
     ]
    }
   ],
   "source": [
    "graphs, perm = coarsening.coarsen(A, levels=3, self_connections=False)\n",
    "\n",
    "X_train = coarsening.perm_data(X_train, perm)\n",
    "X_val = coarsening.perm_data(X_val, perm)\n",
    "X_test = coarsening.perm_data(X_test, perm)"
   ]
  },
  {
   "cell_type": "markdown",
   "metadata": {},
   "source": [
    "We finally need to compute the graph Laplacian $L$ for each of our graphs (the original and the coarsened versions), defined by their adjacency matrices $A$. The sole parameter here is the type of Laplacian, e.g. the combinatorial Laplacian, the normalized Laplacian or the random walk Laplacian."
   ]
  },
  {
   "cell_type": "code",
   "execution_count": 157,
   "metadata": {
    "collapsed": false
   },
   "outputs": [
    {
     "data": {
      "image/png": "[encoded data removed]",
      "text/plain": [
       "<matplotlib.figure.Figure at 0x7feae81422b0>"
      ]
     },
     "metadata": {},
     "output_type": "display_data"
    }
   ],
   "source": [
    "L = [graph.laplacian(A, normalized=True) for A in graphs]\n",
    "graph.plot_spectrum(L)"
   ]
  },
  {
   "cell_type": "markdown",
   "metadata": {},
   "source": [
    "# 3 Graph ConvNet\n",
    "\n",
    "Here we apply the graph convolutional neural network to signals lying on graphs. After designing the architecture and setting the hyper-parameters, the model takes as inputs the data matrix $X$, the target $y$ and a list of graph Laplacians $L$, one per coarsening level.\n",
    "\n",
    "The data, architecture and hyper-parameters are absolutely *not engineered to showcase performance*. Its sole purpose is to illustrate usage and functionality."
   ]
  },
  {
   "cell_type": "code",
   "execution_count": 158,
   "metadata": {
    "collapsed": false
   },
   "outputs": [],
   "source": [
    "params = dict()\n",
    "params['dir_name']       = 'demo'\n",
    "params['num_epochs']     = 60\n",
    "params['batch_size']     = 100\n",
    "params['eval_frequency'] = 200\n",
    "# Building blocks.\n",
    "params['filter']         = 'chebyshev5'\n",
    "params['brelu']          = 'b1relu'\n",
    "params['pool']           = 'apool1'\n",
    "\n",
    "# Number of classes.\n",
    "C = y.max() + 1\n",
    "#assert C == np.unique(y).size\n",
    "# Architecture.\n",
    "params['F']              = [32, 64]  # Number of graph convolutional filters.\n",
    "params['K']              = [20, 20]  # Polynomial orders.\n",
    "params['p']              = [4, 2]    # Pooling sizes.\n",
    "params['M']              = [512, C]  # Output dimensionality of fully connected layers.\n",
    "\n",
    "# Optimization.\n",
    "params['regularization'] = 5e-4\n",
    "params['dropout']        = 1\n",
    "params['learning_rate']  = 1e-3\n",
    "params['decay_rate']     = 0.95\n",
    "params['momentum']       = 0.9\n",
    "params['decay_steps']    = n_train / params['batch_size']"
   ]
  },
  {
   "cell_type": "code",
   "execution_count": 159,
   "metadata": {
    "collapsed": false,
    "scrolled": false
   },
   "outputs": [
    {
     "name": "stdout",
     "output_type": "stream",
     "text": [
      "NN architecture\n",
      "  input: M_0 = 104\n",
      "  layer 1: cgconv1\n",
      "    representation: M_0 * F_1 / p_1 = 104 * 32 / 4 = 832\n",
      "    weights: F_0 * F_1 * K_1 = 1 * 32 * 20 = 640\n",
      "    biases: F_1 = 32\n",
      "  layer 2: cgconv2\n",
      "    representation: M_1 * F_2 / p_2 = 26 * 64 / 2 = 832\n",
      "    weights: F_1 * F_2 * K_2 = 32 * 64 * 20 = 40960\n",
      "    biases: F_2 = 64\n",
      "  layer 3: fc1\n",
      "    representation: M_3 = 512\n",
      "    weights: M_2 * M_3 = 832 * 512 = 425984\n",
      "    biases: M_3 = 512\n",
      "  layer 4: logits (softmax)\n",
      "    representation: M_4 = 50\n",
      "    weights: M_3 * M_4 = 512 * 50 = 25600\n",
      "    biases: M_4 = 50\n",
      "step 200 / 2852 (epoch 4.21 / 60):\n",
      "  learning_rate = 8.15e-04, loss_average = 4.29e+00\n",
      "  validation accuracy: 15.00 (60 / 400), f1 (weighted): 8.04, loss: 4.34e+00\n",
      "  time: 5s (wall 10s)\n"
     ]
    },
    {
     "name": "stderr",
     "output_type": "stream",
     "text": [
      "/users/neeraj.b/anaconda3/lib/python3.6/site-packages/sklearn/metrics/classification.py:1113: UndefinedMetricWarning: F-score is ill-defined and being set to 0.0 in labels with no predicted samples.\n",
      "  'precision', 'predicted', average, warn_for)\n"
     ]
    },
    {
     "name": "stdout",
     "output_type": "stream",
     "text": [
      "step 400 / 2852 (epoch 8.41 / 60):\n",
      "  learning_rate = 6.63e-04, loss_average = 3.75e+00\n",
      "  validation accuracy: 23.25 (93 / 400), f1 (weighted): 18.67, loss: 3.85e+00\n",
      "  time: 10s (wall 21s)\n",
      "step 600 / 2852 (epoch 12.62 / 60):\n",
      "  learning_rate = 5.40e-04, loss_average = 3.37e+00\n",
      "  validation accuracy: 34.75 (139 / 400), f1 (weighted): 32.60, loss: 3.47e+00\n",
      "  time: 14s (wall 31s)\n",
      "step 800 / 2852 (epoch 16.83 / 60):\n",
      "  learning_rate = 4.40e-04, loss_average = 3.13e+00\n",
      "  validation accuracy: 40.50 (162 / 400), f1 (weighted): 38.05, loss: 3.28e+00\n",
      "  time: 18s (wall 41s)\n",
      "step 1000 / 2852 (epoch 21.03 / 60):\n",
      "  learning_rate = 3.41e-04, loss_average = 3.05e+00\n",
      "  validation accuracy: 40.75 (163 / 400), f1 (weighted): 37.92, loss: 3.17e+00\n",
      "  time: 23s (wall 51s)\n",
      "step 1200 / 2852 (epoch 25.24 / 60):\n",
      "  learning_rate = 2.77e-04, loss_average = 2.94e+00\n",
      "  validation accuracy: 40.75 (163 / 400), f1 (weighted): 37.73, loss: 3.11e+00\n",
      "  time: 27s (wall 61s)\n",
      "step 1400 / 2852 (epoch 29.45 / 60):\n",
      "  learning_rate = 2.26e-04, loss_average = 2.90e+00\n",
      "  validation accuracy: 41.00 (164 / 400), f1 (weighted): 38.96, loss: 3.06e+00\n",
      "  time: 32s (wall 71s)\n",
      "step 1600 / 2852 (epoch 33.66 / 60):\n",
      "  learning_rate = 1.84e-04, loss_average = 2.84e+00\n",
      "  validation accuracy: 41.50 (166 / 400), f1 (weighted): 38.60, loss: 3.03e+00\n",
      "  time: 36s (wall 82s)\n",
      "step 1800 / 2852 (epoch 37.86 / 60):\n",
      "  learning_rate = 1.50e-04, loss_average = 2.87e+00\n",
      "  validation accuracy: 42.25 (169 / 400), f1 (weighted): 39.29, loss: 3.01e+00\n",
      "  time: 41s (wall 92s)\n",
      "step 2000 / 2852 (epoch 42.07 / 60):\n",
      "  learning_rate = 1.16e-04, loss_average = 2.82e+00\n",
      "  validation accuracy: 42.50 (170 / 400), f1 (weighted): 39.85, loss: 2.99e+00\n",
      "  time: 45s (wall 102s)\n",
      "step 2200 / 2852 (epoch 46.28 / 60):\n",
      "  learning_rate = 9.45e-05, loss_average = 2.79e+00\n",
      "  validation accuracy: 42.50 (170 / 400), f1 (weighted): 40.45, loss: 2.97e+00\n",
      "  time: 50s (wall 113s)\n",
      "step 2400 / 2852 (epoch 50.48 / 60):\n",
      "  learning_rate = 7.69e-05, loss_average = 2.80e+00\n",
      "  validation accuracy: 42.50 (170 / 400), f1 (weighted): 40.29, loss: 2.97e+00\n",
      "  time: 54s (wall 123s)\n",
      "step 2600 / 2852 (epoch 54.69 / 60):\n",
      "  learning_rate = 6.27e-05, loss_average = 2.79e+00\n",
      "  validation accuracy: 43.50 (174 / 400), f1 (weighted): 41.12, loss: 2.96e+00\n",
      "  time: 59s (wall 133s)\n",
      "step 2800 / 2852 (epoch 58.90 / 60):\n",
      "  learning_rate = 5.10e-05, loss_average = 2.79e+00\n",
      "  validation accuracy: 42.25 (169 / 400), f1 (weighted): 39.94, loss: 2.95e+00\n",
      "  time: 63s (wall 144s)\n",
      "step 2852 / 2852 (epoch 59.99 / 60):\n",
      "  learning_rate = 4.85e-05, loss_average = 2.76e+00\n",
      "  validation accuracy: 43.25 (173 / 400), f1 (weighted): 40.82, loss: 2.95e+00\n",
      "  time: 65s (wall 147s)\n",
      "validation accuracy: peak = 43.50, mean = 42.20\n"
     ]
    }
   ],
   "source": [
    "model = models.cgcnn(L, **params)\n",
    "accuracy, loss, t_step = model.fit(X_train, y_train, X_val, y_val)"
   ]
  },
  {
   "cell_type": "markdown",
   "metadata": {},
   "source": [
    "# 4 Evaluation\n",
    "\n",
    "We often want to monitor:\n",
    "1. The convergence, i.e. the training loss and the classification accuracy on the validation set.\n",
    "2. The performance, i.e. the classification accuracy on the testing set (to be compared with the training set accuracy to spot overfitting).\n",
    "\n",
    "The `model_perf` class in [utils.py](utils.py) can be used to compactly evaluate multiple models."
   ]
  },
  {
   "cell_type": "code",
   "execution_count": 160,
   "metadata": {
    "collapsed": false,
    "scrolled": true
   },
   "outputs": [
    {
     "data": {
      "image/png": "[encoded data removed]",
      "text/plain": [
       "<matplotlib.figure.Figure at 0x7feb0478d748>"
      ]
     },
     "metadata": {},
     "output_type": "display_data"
    }
   ],
   "source": [
    "fig, ax1 = plt.subplots(figsize=(15, 5))\n",
    "ax1.plot(accuracy, 'b.-')\n",
    "ax1.set_ylabel('validation accuracy', color='b')\n",
    "ax2 = ax1.twinx()\n",
    "ax2.plot(loss, 'g.-')\n",
    "ax2.set_ylabel('training loss', color='g')\n",
    "plt.show()"
   ]
  },
  {
   "cell_type": "code",
   "execution_count": 161,
   "metadata": {
    "collapsed": false
   },
   "outputs": [
    {
     "name": "stdout",
     "output_type": "stream",
     "text": [
      "Time per step: 51.75 ms\n"
     ]
    }
   ],
   "source": [
    "print('Time per step: {:.2f} ms'.format(t_step*1000))"
   ]
  },
  {
   "cell_type": "code",
   "execution_count": 162,
   "metadata": {
    "collapsed": false
   },
   "outputs": [
    {
     "name": "stdout",
     "output_type": "stream",
     "text": [
      "accuracy: 42.40 (636 / 1500), f1 (weighted): 41.26, loss: 3.09e+00\n",
      "time: 1s (wall 1s)\n"
     ]
    },
    {
     "name": "stderr",
     "output_type": "stream",
     "text": [
      "/users/neeraj.b/anaconda3/lib/python3.6/site-packages/sklearn/metrics/classification.py:1113: UndefinedMetricWarning: F-score is ill-defined and being set to 0.0 in labels with no predicted samples.\n",
      "  'precision', 'predicted', average, warn_for)\n"
     ]
    }
   ],
   "source": [
    "res = model.evaluate(X_test, y_test)\n",
    "print(res[0])"
   ]
  }
 ],
 "metadata": {
  "kernelspec": {
   "display_name": "Python 3",
   "language": "python",
   "name": "python3"
  },
  "language_info": {
   "codemirror_mode": {
    "name": "ipython",
    "version": 3
   },
   "file_extension": ".py",
   "mimetype": "text/x-python",
   "name": "python",
   "nbconvert_exporter": "python",
   "pygments_lexer": "ipython3",
   "version": "3.6.0"
  }
 },
 "nbformat": 4,
 "nbformat_minor": 0
}
