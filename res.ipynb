{
 "cells": [
  {
   "cell_type": "code",
   "execution_count": 56,
   "metadata": {
    "collapsed": false
   },
   "outputs": [
    {
     "name": "stdout",
     "output_type": "stream",
     "text": [
      "Once deleted, variables cannot be recovered. Proceed (y/[n])? y\n"
     ]
    }
   ],
   "source": [
    "%reset\n",
    "from lib import models, graph, coarsening, utils\n",
    "import numpy as np\n",
    "import matplotlib.pyplot as plt\n",
    "from scipy.sparse import csr_matrix\n",
    "%matplotlib inline"
   ]
  },
  {
   "cell_type": "markdown",
   "metadata": {},
   "source": [
    "# 1 Data\n",
    "\n",
    "For the purpose of the demo, let's create a random data matrix $X \\in \\R^{n \\times d_x}$ and somehow infer a label $y_i = f(x_i)$."
   ]
  },
  {
   "cell_type": "code",
   "execution_count": 57,
   "metadata": {
    "collapsed": false,
    "scrolled": true
   },
   "outputs": [],
   "source": [
    "d = 500    # Dimensionality.\n",
    "n = 6654  # Number of samples.\n",
    "c = 5      # Number of feature communities.\n",
    "n_test = 1500;\n",
    "n_train = 4454;\n",
    "n_val = 700;\n",
    "x_file = open('Xr500','r');\n",
    "x_fi = x_file.read();\n",
    "x_words = x_fi.split();\n",
    "X = np.array([[0 for j in range(d)] for i in range(5154)]);\n",
    "i = 0;\n",
    "for word in x_words:\n",
    "    X[int(i/d)][i%d] = int(word);\n",
    "    i+=1;\n",
    "\n",
    "xte_file = open('Xe500','r');\n",
    "xte_fi = xte_file.read();\n",
    "xte_words = xte_fi.split();\n",
    "X_test = np.array([[0 for j in range(d)] for i in range(1500)]);\n",
    "i = 0;\n",
    "for word in xte_words:\n",
    "    X_test[int(i/d)][i%d] = int(word);\n",
    "    i+=1;\n",
    "    \n",
    "y_file = open('Yr500','r')# np.ones(t.shape, dtype=np.uint8)\n",
    "y_fi = y_file.read();\n",
    "y_words = y_fi.split();\n",
    "y = np.array([0 for i in range(5154)]);\n",
    "i = 0;\n",
    "for word in y_words:\n",
    "    y[i] = int(word);\n",
    "    i+=1;\n",
    "\n",
    "yte_file = open('Ye500','r')# np.ones(t.shape, dtype=np.uint8)\n",
    "yte_fi = yte_file.read();\n",
    "yte_words = yte_fi.split();\n",
    "y_test = np.array([0 for i in range(1500)]);\n",
    "i = 0;\n",
    "for word in yte_words:\n",
    "    y_test[i] = int(word);\n",
    "    i+=1;\n",
    "\n",
    "# perm_file = open('perm','r')# np.ones(t.shape, dtype=np.uint8)\n",
    "# perm_fi = perm_file.read();\n",
    "# perm_words = perm_fi.split();\n",
    "# perm = np.array([0 for i in range(6654)]);\n",
    "# i = 0;\n",
    "# for word in perm_words:\n",
    "#     perm[i] = int(word);\n",
    "#     i+=1;"
   ]
  },
  {
   "cell_type": "markdown",
   "metadata": {},
   "source": [
    "Then split this dataset into training, validation and testing sets."
   ]
  },
  {
   "cell_type": "code",
   "execution_count": 58,
   "metadata": {
    "collapsed": false
   },
   "outputs": [],
   "source": [
    "X_train = np.array([[0 for j in range(d)] for i in range(n_train)]);\n",
    "X_val = np.array([[0 for j in range(d)] for i in range(n_val)]);\n",
    "\n",
    "y_train = np.array([0 for i in range(n_train)]);\n",
    "y_val = np.array([0 for i in range(n_val)]);\n",
    "\n",
    "ppp = np.random.permutation(5154);\n",
    "\n",
    "for i in range(0,n_train):\n",
    "    for j in range(0,d):\n",
    "        X_train[i,j] = X[ppp[i],j];\n",
    "    y_train[i] = y[ppp[i]];\n",
    "for i in range(0,n_val):\n",
    "    for j in range(0,d):\n",
    "        X_val[i,j]   = X[ppp[i+n_train],j];\n",
    "    y_val[i] = y[ppp[i+n_train]];"
   ]
  },
  {
   "cell_type": "markdown",
   "metadata": {},
   "source": [
    "# 2 Graph\n",
    "\n",
    "The second thing we need is a **graph between features**, i.e. an adjacency matrix $A \\in \\mathbb{R}^{d_x \\times d_x}$.\n",
    "Structuring data with graphs is very flexible: it can accomodate both structured and unstructured data.\n",
    "1. **Structured data**.\n",
    "    1. The data is structured by an Euclidean domain, e.g. $x_i$ represents an image, a sound or a video. We can use a classical ConvNet with 1D, 2D or 3D convolutions or a graph ConvNet with a line or grid graph (however losing the orientation).\n",
    "    2. The data is structured by a graph, e.g. the data lies on a transportation, energy, brain or social network.\n",
    "2. **Unstructured data**. We could use a fully connected network, but the learning and computational complexities are gonna be large. An alternative is to construct a sparse similarity graph between features (or between samples) and use a graph ConvNet, effectively structuring the data and drastically reducing the number of parameters through weight sharing. As for classical ConvNets, the number of parameters are independent of the input size.\n",
    "\n",
    "There are many ways, supervised or unsupervised, to construct a graph given some data. And better the graph, better the performance ! For this example we'll define the adjacency matrix as a simple similarity measure between features. Below are the choices one has to make when constructing such a graph.\n",
    "1. The distance function. We'll use the Euclidean distance $d_{ij} = \\|x_i - x_j\\|_2$.\n",
    "2. The kernel. We'll use the Gaussian kernel $a_{ij} = \\exp(d_{ij}^2 / \\sigma^2)$.\n",
    "3. The type of graph. We'll use a $k$ nearest neigbors (kNN) graph."
   ]
  },
  {
   "cell_type": "markdown",
   "metadata": {},
   "source": [
    "To be able to pool graph signals, we need first to coarsen the graph, i.e. to find which vertices to group together. At the end we'll have multiple graphs, like a pyramid, each at one level of resolution. The finest graph is where the input data lies, the coarsest graph is where the data at the output of the graph convolutional layers lie. That data, of reduced spatial dimensionality, can then be fed to a fully connected layer.\n",
    "\n",
    "The parameter here is the number of times to coarsen the graph. Each coarsening approximately reduces the size of the graph by a factor two. Thus if you want a pooling of size 4 in the first layer followed by a pooling of size 2 in the second, you'll need to coarsen $\\log_2(4+2) = 3$ times.\n",
    "\n",
    "After coarsening we rearrange the vertices (and add fake vertices) such that pooling a graph signal is analog to pooling a 1D signal. See the [paper] for details.\n",
    "\n",
    "[paper]: https://arxiv.org/abs/1606.09375"
   ]
  },
  {
   "cell_type": "code",
   "execution_count": 59,
   "metadata": {
    "collapsed": false
   },
   "outputs": [
    {
     "name": "stdout",
     "output_type": "stream",
     "text": [
      "d = |V| = 500, k|V| < |E| = 4832\n"
     ]
    },
    {
     "data": {
      "image/png": "[encoded data removed]",
      "text/plain": [
       "<matplotlib.figure.Figure at 0x7fb502983198>"
      ]
     },
     "metadata": {},
     "output_type": "display_data"
    }
   ],
   "source": [
    "# aa = open(\"Adj500\");\n",
    "# aa = aa.read();\n",
    "# aa = aa.split();\n",
    "# w, h = 4096, 100;\n",
    "# A_temp = [[0 for xx in range(w)] for yy in range(h)];\n",
    "# for i in range(0,409600):\n",
    "#     A_temp[i//4096][i%4096] = float(aa[i]);\n",
    "\n",
    "# dist, idx = graph.distance_scipy_spatial(A_temp, k=20, metric='euclidean')\n",
    "# A = graph.adjacency(dist, idx).astype(np.float32);\n",
    "\n",
    "\n",
    "\n",
    "aa = open(\"matr500\");\n",
    "aa = aa.read();\n",
    "s1 = aa.split();\n",
    "w,h = d,d;\n",
    "matr = np.zeros((w,h));\n",
    "row = [];\n",
    "col = [];\n",
    "data = [];\n",
    "for i in range(0,d):\n",
    "    for j in range(0,d):\n",
    "        matr[i][j] = np.float32(float(s1[i*d+j]));\n",
    "        if float(s1[i*d+j]) != 0.0:\n",
    "            row.append(i);\n",
    "            col.append(j);\n",
    "            data.append(np.float32(float(s1[i*d+j])));\n",
    "plt.imshow(matr);\n",
    "plt.colorbar();\n",
    "row = np.array(row);\n",
    "col = np.array(col);\n",
    "data = np.array(data);\n",
    "A = csr_matrix((data, (row, col)), shape=(d, d));\n",
    "\n",
    "assert A.shape == (d, d)\n",
    "print('d = |V| = {}, k|V| < |E| = {}'.format(d, A.nnz))\n",
    "# plt.spy(A, markersize=1, color='black');\n",
    "# cn = np.arange(50);\n",
    "# for i in range(0,len(y_train)):\n",
    "#     cn[y_train[i]]+=1;\n",
    "# print(cn);\n",
    "# bins = np.linspace(0,48,49);\n",
    "# plt.hist(y_train,bins);"
   ]
  },
  {
   "cell_type": "code",
   "execution_count": 60,
   "metadata": {
    "collapsed": false
   },
   "outputs": [
    {
     "name": "stdout",
     "output_type": "stream",
     "text": [
      "Layer 0: M_0 = |V| = 712 nodes (212 added),|E| = 2416 edges\n",
      "Layer 1: M_1 = |V| = 356 nodes (40 added),|E| = 2212 edges\n",
      "Layer 2: M_2 = |V| = 178 nodes (3 added),|E| = 1895 edges\n",
      "Layer 3: M_3 = |V| = 89 nodes (0 added),|E| = 1312 edges\n"
     ]
    },
    {
     "name": "stderr",
     "output_type": "stream",
     "text": [
      "/users/neeraj.b/project/cnn_graph/lib/coarsening.py:152: RuntimeWarning: divide by zero encountered in true_divide\n",
      "  tval = vv[rs+jj] * (1.0/weights[tid] + 1.0/weights[nid])\n"
     ]
    }
   ],
   "source": [
    "graphs, perm = coarsening.coarsen(A, levels=3, self_connections=False)\n",
    "\n",
    "X_train = coarsening.perm_data(X_train, perm)\n",
    "X_val = coarsening.perm_data(X_val, perm)\n",
    "X_test = coarsening.perm_data(X_test, perm)"
   ]
  },
  {
   "cell_type": "markdown",
   "metadata": {},
   "source": [
    "We finally need to compute the graph Laplacian $L$ for each of our graphs (the original and the coarsened versions), defined by their adjacency matrices $A$. The sole parameter here is the type of Laplacian, e.g. the combinatorial Laplacian, the normalized Laplacian or the random walk Laplacian."
   ]
  },
  {
   "cell_type": "code",
   "execution_count": 61,
   "metadata": {
    "collapsed": false
   },
   "outputs": [
    {
     "name": "stderr",
     "output_type": "stream",
     "text": [
      "/users/neeraj.b/anaconda3/lib/python3.6/site-packages/numpy/core/numeric.py:482: ComplexWarning: Casting complex values to real discards the imaginary part\n",
      "  return array(a, dtype, copy=False, order=order)\n"
     ]
    },
    {
     "data": {
      "image/png": "[encoded data removed]",
      "text/plain": [
       "<matplotlib.figure.Figure at 0x7fb5029834a8>"
      ]
     },
     "metadata": {},
     "output_type": "display_data"
    }
   ],
   "source": [
    "L = [graph.laplacian(A, normalized=True) for A in graphs]\n",
    "graph.plot_spectrum(L)"
   ]
  },
  {
   "cell_type": "markdown",
   "metadata": {},
   "source": [
    "# 3 Graph ConvNet\n",
    "\n",
    "Here we apply the graph convolutional neural network to signals lying on graphs. After designing the architecture and setting the hyper-parameters, the model takes as inputs the data matrix $X$, the target $y$ and a list of graph Laplacians $L$, one per coarsening level.\n",
    "\n",
    "The data, architecture and hyper-parameters are absolutely *not engineered to showcase performance*. Its sole purpose is to illustrate usage and functionality."
   ]
  },
  {
   "cell_type": "code",
   "execution_count": 62,
   "metadata": {
    "collapsed": false
   },
   "outputs": [],
   "source": [
    "params = dict()\n",
    "params['dir_name']       = 'demo'\n",
    "params['num_epochs']     = 80\n",
    "params['batch_size']     = 100\n",
    "params['eval_frequency'] = 200\n",
    "\n",
    "# Building blocks.\n",
    "params['filter']         = 'chebyshev5'\n",
    "params['brelu']          = 'b1relu'\n",
    "params['pool']           = 'apool1'\n",
    "\n",
    "# Number of classes.\n",
    "C = y.max() + 1\n",
    "# assert C == np.unique(y).size\n",
    "\n",
    "# Architecture.\n",
    "params['F']              = [32, 64]  # Number of graph convolutional filters.\n",
    "params['K']              = [100, 100]  # Polynomial orders.\n",
    "params['p']              = [4, 2]    # Pooling sizes.\n",
    "params['M']              = [512, C]  # Output dimensionality of fully connected layers.\n",
    "\n",
    "# Optimization.\n",
    "params['regularization'] = 5e-4\n",
    "params['dropout']        = 1\n",
    "params['learning_rate']  = 1e-3\n",
    "params['decay_rate']     = 0.95\n",
    "params['momentum']       = 0.9\n",
    "params['decay_steps']    = n_train / params['batch_size']"
   ]
  },
  {
   "cell_type": "code",
   "execution_count": 63,
   "metadata": {
    "collapsed": false,
    "scrolled": false
   },
   "outputs": [
    {
     "name": "stdout",
     "output_type": "stream",
     "text": [
      "NN architecture\n",
      "  input: M_0 = 712\n",
      "  layer 1: cgconv1\n",
      "    representation: M_0 * F_1 / p_1 = 712 * 32 / 4 = 5696\n",
      "    weights: F_0 * F_1 * K_1 = 1 * 32 * 100 = 3200\n",
      "    biases: F_1 = 32\n",
      "  layer 2: cgconv2\n",
      "    representation: M_1 * F_2 / p_2 = 178 * 64 / 2 = 5696\n",
      "    weights: F_1 * F_2 * K_2 = 32 * 64 * 100 = 204800\n",
      "    biases: F_2 = 64\n",
      "  layer 3: fc1\n",
      "    representation: M_3 = 512\n",
      "    weights: M_2 * M_3 = 5696 * 512 = 2916352\n",
      "    biases: M_3 = 512\n",
      "  layer 4: logits (softmax)\n",
      "    representation: M_4 = 50\n",
      "    weights: M_3 * M_4 = 512 * 50 = 25600\n",
      "    biases: M_4 = 50\n",
      "step 200 / 3563 (epoch 4.49 / 80):\n",
      "  learning_rate = 8.15e-04, loss_average = 8.41e+00\n"
     ]
    },
    {
     "name": "stderr",
     "output_type": "stream",
     "text": [
      "/users/neeraj.b/anaconda3/lib/python3.6/site-packages/sklearn/metrics/classification.py:1113: UndefinedMetricWarning: F-score is ill-defined and being set to 0.0 in labels with no predicted samples.\n",
      "  'precision', 'predicted', average, warn_for)\n"
     ]
    },
    {
     "name": "stdout",
     "output_type": "stream",
     "text": [
      "  validation accuracy: 31.00 (217 / 700), f1 (weighted): 27.72, loss: 8.48e+00\n",
      "  time: 272s (wall 368s)\n",
      "step 400 / 3563 (epoch 8.98 / 80):\n",
      "  learning_rate = 6.63e-04, loss_average = 7.76e+00\n",
      "  validation accuracy: 44.57 (312 / 700), f1 (weighted): 43.25, loss: 7.93e+00\n",
      "  time: 544s (wall 738s)\n",
      "step 600 / 3563 (epoch 13.47 / 80):\n",
      "  learning_rate = 5.13e-04, loss_average = 7.41e+00\n",
      "  validation accuracy: 48.57 (340 / 700), f1 (weighted): 47.35, loss: 7.68e+00\n",
      "  time: 816s (wall 1108s)\n",
      "step 800 / 3563 (epoch 17.96 / 80):\n",
      "  learning_rate = 4.18e-04, loss_average = 7.28e+00\n",
      "  validation accuracy: 48.29 (338 / 700), f1 (weighted): 48.15, loss: 7.57e+00\n",
      "  time: 1089s (wall 1477s)\n",
      "step 1000 / 3563 (epoch 22.45 / 80):\n",
      "  learning_rate = 3.24e-04, loss_average = 7.19e+00\n",
      "  validation accuracy: 52.14 (365 / 700), f1 (weighted): 51.86, loss: 7.47e+00\n",
      "  time: 1361s (wall 1847s)\n",
      "step 1200 / 3563 (epoch 26.94 / 80):\n",
      "  learning_rate = 2.64e-04, loss_average = 7.10e+00\n",
      "  validation accuracy: 50.86 (356 / 700), f1 (weighted): 51.29, loss: 7.43e+00\n",
      "  time: 1633s (wall 2217s)\n",
      "step 1400 / 3563 (epoch 31.43 / 80):\n",
      "  learning_rate = 2.04e-04, loss_average = 7.02e+00\n",
      "  validation accuracy: 52.43 (367 / 700), f1 (weighted): 52.70, loss: 7.38e+00\n",
      "  time: 1905s (wall 2586s)\n",
      "step 1600 / 3563 (epoch 35.92 / 80):\n",
      "  learning_rate = 1.66e-04, loss_average = 7.05e+00\n",
      "  validation accuracy: 53.57 (375 / 700), f1 (weighted): 53.39, loss: 7.35e+00\n",
      "  time: 2178s (wall 2956s)\n",
      "step 1800 / 3563 (epoch 40.41 / 80):\n",
      "  learning_rate = 1.29e-04, loss_average = 7.01e+00\n",
      "  validation accuracy: 53.71 (376 / 700), f1 (weighted): 53.78, loss: 7.33e+00\n",
      "  time: 2450s (wall 3326s)\n",
      "step 2000 / 3563 (epoch 44.90 / 80):\n",
      "  learning_rate = 1.05e-04, loss_average = 7.01e+00\n",
      "  validation accuracy: 54.43 (381 / 700), f1 (weighted): 54.49, loss: 7.32e+00\n",
      "  time: 2723s (wall 3695s)\n",
      "step 2200 / 3563 (epoch 49.39 / 80):\n",
      "  learning_rate = 8.10e-05, loss_average = 6.91e+00\n",
      "  validation accuracy: 54.57 (382 / 700), f1 (weighted): 54.87, loss: 7.31e+00\n",
      "  time: 2996s (wall 4065s)\n",
      "step 2400 / 3563 (epoch 53.88 / 80):\n",
      "  learning_rate = 6.60e-05, loss_average = 6.93e+00\n",
      "  validation accuracy: 54.29 (380 / 700), f1 (weighted): 54.40, loss: 7.30e+00\n",
      "  time: 3268s (wall 4435s)\n",
      "step 2600 / 3563 (epoch 58.37 / 80):\n",
      "  learning_rate = 5.10e-05, loss_average = 6.94e+00\n",
      "  validation accuracy: 54.29 (380 / 700), f1 (weighted): 54.69, loss: 7.30e+00\n",
      "  time: 3541s (wall 4805s)\n",
      "step 2800 / 3563 (epoch 62.86 / 80):\n",
      "  learning_rate = 4.16e-05, loss_average = 6.89e+00\n",
      "  validation accuracy: 54.29 (380 / 700), f1 (weighted): 54.66, loss: 7.29e+00\n",
      "  time: 3813s (wall 5175s)\n",
      "step 3000 / 3563 (epoch 67.36 / 80):\n",
      "  learning_rate = 3.22e-05, loss_average = 6.88e+00\n",
      "  validation accuracy: 53.71 (376 / 700), f1 (weighted): 54.07, loss: 7.29e+00\n",
      "  time: 4086s (wall 5544s)\n",
      "step 3200 / 3563 (epoch 71.85 / 80):\n",
      "  learning_rate = 2.62e-05, loss_average = 6.89e+00\n",
      "  validation accuracy: 54.57 (382 / 700), f1 (weighted): 54.93, loss: 7.28e+00\n",
      "  time: 4360s (wall 5914s)\n",
      "step 3400 / 3563 (epoch 76.34 / 80):\n",
      "  learning_rate = 2.03e-05, loss_average = 6.88e+00\n",
      "  validation accuracy: 54.29 (380 / 700), f1 (weighted): 54.63, loss: 7.28e+00\n",
      "  time: 4633s (wall 6284s)\n",
      "step 3563 / 3563 (epoch 80.00 / 80):\n",
      "  learning_rate = 1.74e-05, loss_average = 6.87e+00\n",
      "  validation accuracy: 54.00 (378 / 700), f1 (weighted): 54.31, loss: 7.28e+00\n",
      "  time: 4857s (wall 6587s)\n",
      "validation accuracy: peak = 54.57, mean = 54.21\n"
     ]
    }
   ],
   "source": [
    "model = models.cgcnn(L, **params)\n",
    "accuracy, loss, t_step = model.fit(X_train, y_train, X_val, y_val)"
   ]
  },
  {
   "cell_type": "markdown",
   "metadata": {},
   "source": [
    "# 4 Evaluation\n",
    "\n",
    "We often want to monitor:\n",
    "1. The convergence, i.e. the training loss and the classification accuracy on the validation set.\n",
    "2. The performance, i.e. the classification accuracy on the testing set (to be compared with the training set accuracy to spot overfitting).\n",
    "\n",
    "The `model_perf` class in [utils.py](utils.py) can be used to compactly evaluate multiple models."
   ]
  },
  {
   "cell_type": "code",
   "execution_count": 64,
   "metadata": {
    "collapsed": false
   },
   "outputs": [
    {
     "data": {
      "image/png": "[encoded data removed]",
      "text/plain": [
       "<matplotlib.figure.Figure at 0x7fb4d340b240>"
      ]
     },
     "metadata": {},
     "output_type": "display_data"
    }
   ],
   "source": [
    "fig, ax1 = plt.subplots(figsize=(15, 5))\n",
    "ax1.plot(accuracy, 'b.-')\n",
    "ax1.set_ylabel('validation accuracy', color='b')\n",
    "ax2 = ax1.twinx()\n",
    "ax2.plot(loss, 'g.-')\n",
    "ax2.set_ylabel('training loss', color='g')\n",
    "plt.show()"
   ]
  },
  {
   "cell_type": "code",
   "execution_count": 65,
   "metadata": {
    "collapsed": false
   },
   "outputs": [
    {
     "name": "stdout",
     "output_type": "stream",
     "text": [
      "Time per step: 1849.74 ms\n"
     ]
    }
   ],
   "source": [
    "print('Time per step: {:.2f} ms'.format(t_step*1000))"
   ]
  },
  {
   "cell_type": "code",
   "execution_count": 66,
   "metadata": {
    "collapsed": false
   },
   "outputs": [
    {
     "name": "stdout",
     "output_type": "stream",
     "text": [
      "accuracy: 55.67 (835 / 1500), f1 (weighted): 55.28, loss: 7.27e+00\n",
      "time: 14s (wall 13s)\n"
     ]
    }
   ],
   "source": [
    "res = model.evaluate(X_test, y_test)\n",
    "print(res[0])"
   ]
  }
 ],
 "metadata": {
  "kernelspec": {
   "display_name": "Python 3",
   "language": "python",
   "name": "python3"
  },
  "language_info": {
   "codemirror_mode": {
    "name": "ipython",
    "version": 3
   },
   "file_extension": ".py",
   "mimetype": "text/x-python",
   "name": "python",
   "nbconvert_exporter": "python",
   "pygments_lexer": "ipython3",
   "version": "3.6.0"
  }
 },
 "nbformat": 4,
 "nbformat_minor": 0
}
